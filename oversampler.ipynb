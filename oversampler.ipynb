{
 "metadata": {
  "language_info": {
   "codemirror_mode": {
    "name": "ipython",
    "version": 3
   },
   "file_extension": ".py",
   "mimetype": "text/x-python",
   "name": "python",
   "nbconvert_exporter": "python",
   "pygments_lexer": "ipython3",
   "version": "3.8.5-final"
  },
  "orig_nbformat": 2,
  "kernelspec": {
   "name": "python3",
   "display_name": "Python 3.8.5 64-bit (conda)",
   "metadata": {
    "interpreter": {
     "hash": "73e03da126b73bfff3642ec5261d56fa25c444ea595de51041687efaa60dda41"
    }
   }
  }
 },
 "nbformat": 4,
 "nbformat_minor": 2,
 "cells": [
  {
   "source": [
    "## 数据分布不平衡，需要过采样\n",
    "1. 读取数据\n",
    "2. 拆分数据为X, y\n",
    "3. 随机采样数据\n",
    "4. 合并数据\n",
    "5. 导出数据\n",
    "6. 检查数据是否导入正确"
   ],
   "cell_type": "markdown",
   "metadata": {}
  },
  {
   "cell_type": "code",
   "execution_count": 1,
   "metadata": {},
   "outputs": [],
   "source": [
    "import pandas as pd\n",
    "import numpy as np\n",
    "from imblearn.over_sampling import RandomOverSampler"
   ]
  },
  {
   "cell_type": "code",
   "execution_count": 2,
   "metadata": {},
   "outputs": [],
   "source": [
    "path_train = 'data_file/train-age-duplicate-processed.csv'\n",
    "\n",
    "data_train = pd.read_csv(path_train, index_col=0)\n",
    "X, y = data_train.iloc[:, :-1], data_train.iloc[:, -1]\n",
    "\n",
    "# 过采样类的实例化，先传入一个random_state固定初始值?\n",
    "# 调用实例的方法\n",
    "ros = RandomOverSampler(random_state=0)\n",
    "X_resampled, y_resampled = ros.fit_resample(X, y)"
   ]
  },
  {
   "cell_type": "code",
   "execution_count": 3,
   "metadata": {},
   "outputs": [],
   "source": [
    "# 合并, 将X, y合并\n",
    "Xy_resampled = pd.concat([X_resampled, y_resampled], axis=1)\n",
    "Xy_resampled.to_csv(r'data_file/train-age-oversampled.csv', index=0)"
   ]
  },
  {
   "cell_type": "code",
   "execution_count": 4,
   "metadata": {},
   "outputs": [
    {
     "output_type": "stream",
     "name": "stdout",
     "text": [
      "74486 37243.0\n"
     ]
    }
   ],
   "source": [
    "# 查看违约：正常 比例\n",
    "print(len(y_resampled), np.sum(y_resampled))\n",
    "# 1：default 代表违约， 0： 不违约，代表正常用户"
   ]
  },
  {
   "cell_type": "code",
   "execution_count": 5,
   "metadata": {},
   "outputs": [
    {
     "output_type": "execute_result",
     "data": {
      "text/plain": [
       "   XINGBIE   AGE  HYZK  ZHIYE  ZHICHEN  ZHIWU  XUELI  DWJJLX  DWSSHY   GRJCJS  \\\n",
       "0      1.0  18.0  90.0   90.0    999.0    0.0   99.0   150.0    12.0   1737.0   \n",
       "1      2.0  35.0  90.0   90.0    999.0    0.0   99.0   110.0     0.0   4894.0   \n",
       "2      1.0  27.0  90.0   90.0    999.0    0.0   99.0   150.0     9.0  10297.0   \n",
       "3      1.0  37.0  90.0   90.0    999.0    0.0   99.0   150.0     7.0  10071.5   \n",
       "4      2.0  33.0  90.0   90.0    999.0    0.0   99.0   900.0    14.0   2007.0   \n",
       "\n",
       "   GRZHZT      GRZHYE  GRZHSNJZYE  GRZHDNGJYE   GRYJCE     DKFFE        DKYE  \\\n",
       "0     1.0    3223.515     801.310     837.000   312.00  175237.0  154112.935   \n",
       "1     1.0   18055.195   53213.220    1065.200   795.84  300237.0  298252.945   \n",
       "2     1.0   27426.600   13963.140    7230.020  1444.20  150237.0  147339.130   \n",
       "3     1.0  111871.130   99701.265    2271.295  1417.14  350237.0  300653.780   \n",
       "4     1.0     237.000   11028.875      35.780   325.50  150237.0  145185.010   \n",
       "\n",
       "    DKLL  label  \n",
       "0  2.708    0.0  \n",
       "1  2.979    0.0  \n",
       "2  2.708    0.0  \n",
       "3  2.708    0.0  \n",
       "4  2.708    0.0  "
      ],
      "text/html": "<div>\n<style scoped>\n    .dataframe tbody tr th:only-of-type {\n        vertical-align: middle;\n    }\n\n    .dataframe tbody tr th {\n        vertical-align: top;\n    }\n\n    .dataframe thead th {\n        text-align: right;\n    }\n</style>\n<table border=\"1\" class=\"dataframe\">\n  <thead>\n    <tr style=\"text-align: right;\">\n      <th></th>\n      <th>XINGBIE</th>\n      <th>AGE</th>\n      <th>HYZK</th>\n      <th>ZHIYE</th>\n      <th>ZHICHEN</th>\n      <th>ZHIWU</th>\n      <th>XUELI</th>\n      <th>DWJJLX</th>\n      <th>DWSSHY</th>\n      <th>GRJCJS</th>\n      <th>GRZHZT</th>\n      <th>GRZHYE</th>\n      <th>GRZHSNJZYE</th>\n      <th>GRZHDNGJYE</th>\n      <th>GRYJCE</th>\n      <th>DKFFE</th>\n      <th>DKYE</th>\n      <th>DKLL</th>\n      <th>label</th>\n    </tr>\n  </thead>\n  <tbody>\n    <tr>\n      <th>0</th>\n      <td>1.0</td>\n      <td>18.0</td>\n      <td>90.0</td>\n      <td>90.0</td>\n      <td>999.0</td>\n      <td>0.0</td>\n      <td>99.0</td>\n      <td>150.0</td>\n      <td>12.0</td>\n      <td>1737.0</td>\n      <td>1.0</td>\n      <td>3223.515</td>\n      <td>801.310</td>\n      <td>837.000</td>\n      <td>312.00</td>\n      <td>175237.0</td>\n      <td>154112.935</td>\n      <td>2.708</td>\n      <td>0.0</td>\n    </tr>\n    <tr>\n      <th>1</th>\n      <td>2.0</td>\n      <td>35.0</td>\n      <td>90.0</td>\n      <td>90.0</td>\n      <td>999.0</td>\n      <td>0.0</td>\n      <td>99.0</td>\n      <td>110.0</td>\n      <td>0.0</td>\n      <td>4894.0</td>\n      <td>1.0</td>\n      <td>18055.195</td>\n      <td>53213.220</td>\n      <td>1065.200</td>\n      <td>795.84</td>\n      <td>300237.0</td>\n      <td>298252.945</td>\n      <td>2.979</td>\n      <td>0.0</td>\n    </tr>\n    <tr>\n      <th>2</th>\n      <td>1.0</td>\n      <td>27.0</td>\n      <td>90.0</td>\n      <td>90.0</td>\n      <td>999.0</td>\n      <td>0.0</td>\n      <td>99.0</td>\n      <td>150.0</td>\n      <td>9.0</td>\n      <td>10297.0</td>\n      <td>1.0</td>\n      <td>27426.600</td>\n      <td>13963.140</td>\n      <td>7230.020</td>\n      <td>1444.20</td>\n      <td>150237.0</td>\n      <td>147339.130</td>\n      <td>2.708</td>\n      <td>0.0</td>\n    </tr>\n    <tr>\n      <th>3</th>\n      <td>1.0</td>\n      <td>37.0</td>\n      <td>90.0</td>\n      <td>90.0</td>\n      <td>999.0</td>\n      <td>0.0</td>\n      <td>99.0</td>\n      <td>150.0</td>\n      <td>7.0</td>\n      <td>10071.5</td>\n      <td>1.0</td>\n      <td>111871.130</td>\n      <td>99701.265</td>\n      <td>2271.295</td>\n      <td>1417.14</td>\n      <td>350237.0</td>\n      <td>300653.780</td>\n      <td>2.708</td>\n      <td>0.0</td>\n    </tr>\n    <tr>\n      <th>4</th>\n      <td>2.0</td>\n      <td>33.0</td>\n      <td>90.0</td>\n      <td>90.0</td>\n      <td>999.0</td>\n      <td>0.0</td>\n      <td>99.0</td>\n      <td>900.0</td>\n      <td>14.0</td>\n      <td>2007.0</td>\n      <td>1.0</td>\n      <td>237.000</td>\n      <td>11028.875</td>\n      <td>35.780</td>\n      <td>325.50</td>\n      <td>150237.0</td>\n      <td>145185.010</td>\n      <td>2.708</td>\n      <td>0.0</td>\n    </tr>\n  </tbody>\n</table>\n</div>"
     },
     "metadata": {},
     "execution_count": 5
    }
   ],
   "source": [
    "# 查看数据是否合并正确\n",
    "Xy_resampled.head()"
   ]
  }
 ]
}