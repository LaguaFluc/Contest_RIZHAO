{
 "metadata": {
  "language_info": {
   "codemirror_mode": {
    "name": "ipython",
    "version": 3
   },
   "file_extension": ".py",
   "mimetype": "text/x-python",
   "name": "python",
   "nbconvert_exporter": "python",
   "pygments_lexer": "ipython3",
   "version": "3.8.5-final"
  },
  "orig_nbformat": 2,
  "kernelspec": {
   "name": "python3",
   "display_name": "Python 3.8.5 64-bit (conda)",
   "metadata": {
    "interpreter": {
     "hash": "73e03da126b73bfff3642ec5261d56fa25c444ea595de51041687efaa60dda41"
    }
   }
  }
 },
 "nbformat": 4,
 "nbformat_minor": 2,
 "cells": [
  {
   "cell_type": "code",
   "execution_count": 1,
   "metadata": {},
   "outputs": [],
   "source": [
    "# 导入包\n",
    "import itertools\n",
    "from sklearn import svm\n",
    "import numpy as np\n",
    "import pandas as pd\n",
    "from matplotlib import pyplot as plt"
   ]
  },
  {
   "cell_type": "code",
   "execution_count": 2,
   "metadata": {},
   "outputs": [
    {
     "output_type": "execute_result",
     "data": {
      "text/plain": [
       "        XINGBIE   AGE  HYZK  ZHIYE  ZHICHEN  ZHIWU  XUELI  DWJJLX  DWSSHY  \\\n",
       "id                                                                          \n",
       "test_0      1.0  34.0  90.0   90.0    999.0    0.0   99.0   159.0    10.0   \n",
       "test_1      1.0  32.0  90.0   90.0    999.0    0.0   99.0   150.0    11.0   \n",
       "test_2      1.0  50.0  90.0   90.0    999.0    1.0   99.0   110.0    15.0   \n",
       "test_3      2.0  34.0  90.0   90.0    999.0    0.0   99.0   150.0    10.0   \n",
       "test_4      1.0  48.0  90.0   90.0    999.0    0.0   99.0   150.0     2.0   \n",
       "\n",
       "          GRJCJS  GRZHZT     GRZHYE  GRZHSNJZYE  GRZHDNGJYE   GRYJCE  \\\n",
       "id                                                                     \n",
       "test_0  2387.000     1.0  17146.350   13376.485    1097.000  344.500   \n",
       "test_1  1237.000     1.0   3783.385    2145.585     637.000  287.000   \n",
       "test_2  5612.904     1.0  51787.152   35176.592    1115.693  882.108   \n",
       "test_3  2977.000     1.0    785.000     714.885   -2515.105  511.000   \n",
       "test_4  4701.500     1.0  40722.050   27110.840    8163.960  772.740   \n",
       "\n",
       "           DKFFE        DKYE   DKLL  \n",
       "id                                   \n",
       "test_0  110237.0     237.000  2.708  \n",
       "test_1  200237.0  178567.065  2.708  \n",
       "test_2  150237.0  146580.203  2.834  \n",
       "test_3  246737.0  242095.465  2.979  \n",
       "test_4  100237.0   72320.445  2.708  "
      ],
      "text/html": "<div>\n<style scoped>\n    .dataframe tbody tr th:only-of-type {\n        vertical-align: middle;\n    }\n\n    .dataframe tbody tr th {\n        vertical-align: top;\n    }\n\n    .dataframe thead th {\n        text-align: right;\n    }\n</style>\n<table border=\"1\" class=\"dataframe\">\n  <thead>\n    <tr style=\"text-align: right;\">\n      <th></th>\n      <th>XINGBIE</th>\n      <th>AGE</th>\n      <th>HYZK</th>\n      <th>ZHIYE</th>\n      <th>ZHICHEN</th>\n      <th>ZHIWU</th>\n      <th>XUELI</th>\n      <th>DWJJLX</th>\n      <th>DWSSHY</th>\n      <th>GRJCJS</th>\n      <th>GRZHZT</th>\n      <th>GRZHYE</th>\n      <th>GRZHSNJZYE</th>\n      <th>GRZHDNGJYE</th>\n      <th>GRYJCE</th>\n      <th>DKFFE</th>\n      <th>DKYE</th>\n      <th>DKLL</th>\n    </tr>\n    <tr>\n      <th>id</th>\n      <th></th>\n      <th></th>\n      <th></th>\n      <th></th>\n      <th></th>\n      <th></th>\n      <th></th>\n      <th></th>\n      <th></th>\n      <th></th>\n      <th></th>\n      <th></th>\n      <th></th>\n      <th></th>\n      <th></th>\n      <th></th>\n      <th></th>\n      <th></th>\n    </tr>\n  </thead>\n  <tbody>\n    <tr>\n      <th>test_0</th>\n      <td>1.0</td>\n      <td>34.0</td>\n      <td>90.0</td>\n      <td>90.0</td>\n      <td>999.0</td>\n      <td>0.0</td>\n      <td>99.0</td>\n      <td>159.0</td>\n      <td>10.0</td>\n      <td>2387.000</td>\n      <td>1.0</td>\n      <td>17146.350</td>\n      <td>13376.485</td>\n      <td>1097.000</td>\n      <td>344.500</td>\n      <td>110237.0</td>\n      <td>237.000</td>\n      <td>2.708</td>\n    </tr>\n    <tr>\n      <th>test_1</th>\n      <td>1.0</td>\n      <td>32.0</td>\n      <td>90.0</td>\n      <td>90.0</td>\n      <td>999.0</td>\n      <td>0.0</td>\n      <td>99.0</td>\n      <td>150.0</td>\n      <td>11.0</td>\n      <td>1237.000</td>\n      <td>1.0</td>\n      <td>3783.385</td>\n      <td>2145.585</td>\n      <td>637.000</td>\n      <td>287.000</td>\n      <td>200237.0</td>\n      <td>178567.065</td>\n      <td>2.708</td>\n    </tr>\n    <tr>\n      <th>test_2</th>\n      <td>1.0</td>\n      <td>50.0</td>\n      <td>90.0</td>\n      <td>90.0</td>\n      <td>999.0</td>\n      <td>1.0</td>\n      <td>99.0</td>\n      <td>110.0</td>\n      <td>15.0</td>\n      <td>5612.904</td>\n      <td>1.0</td>\n      <td>51787.152</td>\n      <td>35176.592</td>\n      <td>1115.693</td>\n      <td>882.108</td>\n      <td>150237.0</td>\n      <td>146580.203</td>\n      <td>2.834</td>\n    </tr>\n    <tr>\n      <th>test_3</th>\n      <td>2.0</td>\n      <td>34.0</td>\n      <td>90.0</td>\n      <td>90.0</td>\n      <td>999.0</td>\n      <td>0.0</td>\n      <td>99.0</td>\n      <td>150.0</td>\n      <td>10.0</td>\n      <td>2977.000</td>\n      <td>1.0</td>\n      <td>785.000</td>\n      <td>714.885</td>\n      <td>-2515.105</td>\n      <td>511.000</td>\n      <td>246737.0</td>\n      <td>242095.465</td>\n      <td>2.979</td>\n    </tr>\n    <tr>\n      <th>test_4</th>\n      <td>1.0</td>\n      <td>48.0</td>\n      <td>90.0</td>\n      <td>90.0</td>\n      <td>999.0</td>\n      <td>0.0</td>\n      <td>99.0</td>\n      <td>150.0</td>\n      <td>2.0</td>\n      <td>4701.500</td>\n      <td>1.0</td>\n      <td>40722.050</td>\n      <td>27110.840</td>\n      <td>8163.960</td>\n      <td>772.740</td>\n      <td>100237.0</td>\n      <td>72320.445</td>\n      <td>2.708</td>\n    </tr>\n  </tbody>\n</table>\n</div>"
     },
     "metadata": {},
     "execution_count": 2
    }
   ],
   "source": [
    "path_test = 'data_file/test-age-duplicate-processed.csv'\n",
    "\n",
    "data_test = pd.read_csv(path_test, header=0, index_col=0)\n",
    "data_test.head()"
   ]
  },
  {
   "cell_type": "code",
   "execution_count": 3,
   "metadata": {},
   "outputs": [
    {
     "output_type": "stream",
     "name": "stdout",
     "text": [
      "len(new_combin_li) 21\n",
      "105\n"
     ]
    }
   ],
   "source": [
    "# 连续变量\n",
    "feature_li = ['GRJCJS', 'GRZHYE', 'GRZHSNJZYE', 'GRZHDNGJYE', 'GRYJCE', 'DKFFE', 'DKYE']\n",
    "\n",
    "def new_feature(data, f1, f2, operation):\n",
    "    new_name = f1 +'_' + operation + '_' + f2\n",
    "    \n",
    "    if operation == 'add':\n",
    "        new_df = data.loc[:, f1] + data.loc[:, f2]\n",
    "    elif operation == 'subtract':\n",
    "        new_df = data.loc[:, f1] - data.loc[:, f2]\n",
    "    elif operation == 'multiply':\n",
    "        new_df = data.loc[:, f1] * data.loc[:, f2]\n",
    "    elif operation == 'divide_ab':\n",
    "        new_df = data.loc[:, f1] / data.loc[:, f2]\n",
    "        new_df.astype(float)\n",
    "\n",
    "    elif operation == 'divide_ba':\n",
    "        new_df = data.loc[:, f2] / data.loc[:, f1]\n",
    "        new_df.astype(float)\n",
    "    \n",
    "    # data[new_name] = new_df\n",
    "    # return data\n",
    "    return new_name, new_df\n",
    "\n",
    "def all_operate(data, feature_li=feature_li):\n",
    "    name_4_operations = ['add', 'subtract', 'multiply', 'divide_ab', 'divide_ba']\n",
    "    new_feature_names = []\n",
    "    new_combin_li = list(itertools.combinations(feature_li, 2))\n",
    "    print('len(new_combin_li)', len(new_combin_li))\n",
    "\n",
    "    vocant = []\n",
    "    for f1, f2 in new_combin_li:\n",
    "        for operation in name_4_operations:\n",
    "            vocant.append(new_feature(data, f1, f2, operation))\n",
    "    \n",
    "    print(len(new_combin_li) * len(name_4_operations))\n",
    "    \n",
    "    for new_name, new_df in vocant:\n",
    "        data[new_name] = new_df\n",
    "        \n",
    "    return data  \n",
    "\n",
    "data_tmp = all_operate(data_test)\n",
    "\n",
    "\n",
    "data_tmp.to_csv('data_file/data_test_generation.csv', index=0)"
   ]
  }
 ]
}