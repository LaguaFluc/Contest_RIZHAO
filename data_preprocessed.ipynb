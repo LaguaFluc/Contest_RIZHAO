{
 "metadata": {
  "language_info": {
   "codemirror_mode": {
    "name": "ipython",
    "version": 3
   },
   "file_extension": ".py",
   "mimetype": "text/x-python",
   "name": "python",
   "nbconvert_exporter": "python",
   "pygments_lexer": "ipython3",
   "version": "3.8.5-final"
  },
  "orig_nbformat": 2,
  "kernelspec": {
   "name": "python3",
   "display_name": "Python 3.8.5 64-bit (conda)",
   "metadata": {
    "interpreter": {
     "hash": "73e03da126b73bfff3642ec5261d56fa25c444ea595de51041687efaa60dda41"
    }
   }
  }
 },
 "nbformat": 4,
 "nbformat_minor": 2,
 "cells": [
  {
   "source": [
    "1. 先处理年龄数据\n",
    "2. 处理重复的列"
   ],
   "cell_type": "markdown",
   "metadata": {}
  },
  {
   "cell_type": "code",
   "execution_count": 64,
   "metadata": {},
   "outputs": [],
   "source": [
    "import numpy as np\n",
    "import pandas as pd"
   ]
  },
  {
   "cell_type": "code",
   "execution_count": 71,
   "metadata": {},
   "outputs": [],
   "source": [
    "path_train = 'data_file/train.csv'\n",
    "path_test = 'data_file/test.csv'\n",
    "\n",
    "data_train = pd.read_csv(path_train, header=0, index_col=0)\n",
    "data_test = pd.read_csv(path_test, header=0, index_col=0)\n",
    "\n",
    "# print(data_train.head())"
   ]
  },
  {
   "cell_type": "code",
   "execution_count": 72,
   "metadata": {
    "tags": []
   },
   "outputs": [
    {
     "output_type": "stream",
     "name": "stdout",
     "text": [
      "38354 190364572800\n",
      "12133 150445008000\n"
     ]
    }
   ],
   "source": [
    "# 处理年龄\n",
    "# 使用try.. except\n",
    "def transform_age(data:pd.DataFrame):\n",
    "    present_time = pd.datetime.now()\n",
    "    data.rename(columns = {'CSNY': 'AGE'}, inplace=True)\n",
    "\n",
    "    for i in range(len(data)):\n",
    "        try:\n",
    "            birth = pd.to_datetime(data['AGE'][i], unit='s')            \n",
    "        except:\n",
    "            # print present index and the bad value of CSNY\n",
    "            print(i, data['AGE'][i])\n",
    "            birth = pd.to_datetime(data['AGE'][i]/1000, unit='s')\n",
    "        finally:\n",
    "            data['AGE'][i] = int((present_time - birth) / pd.Timedelta('365 days'))\n",
    "\n",
    "    return data\n",
    "\n",
    "data_train = transform_age(data_train)\n",
    "data_test = transform_age(data_test)"
   ]
  },
  {
   "cell_type": "code",
   "execution_count": 74,
   "metadata": {},
   "outputs": [],
   "source": [
    "# drop duplicate columns(features)\n",
    "def drop_duplicate_feature(data:pd.DataFrame):\n",
    "    data = data.T.drop_duplicates(keep='first').T\n",
    "    return data\n",
    "    # pass\n",
    "\n",
    "data_train = drop_duplicate_feature(data_train)\n",
    "data_test = drop_duplicate_feature(data_test)"
   ]
  },
  {
   "cell_type": "code",
   "execution_count": 75,
   "metadata": {},
   "outputs": [
    {
     "output_type": "execute_result",
     "data": {
      "text/plain": [
       "         XINGBIE   AGE  HYZK  ZHIYE  ZHICHEN  ZHIWU  XUELI  DWJJLX  DWSSHY  \\\n",
       "id                                                                           \n",
       "train_0      1.0  18.0  90.0   90.0    999.0    0.0   99.0   150.0    12.0   \n",
       "train_1      2.0  35.0  90.0   90.0    999.0    0.0   99.0   110.0     0.0   \n",
       "train_2      1.0  27.0  90.0   90.0    999.0    0.0   99.0   150.0     9.0   \n",
       "train_3      1.0  37.0  90.0   90.0    999.0    0.0   99.0   150.0     7.0   \n",
       "train_4      2.0  33.0  90.0   90.0    999.0    0.0   99.0   900.0    14.0   \n",
       "\n",
       "          GRJCJS  GRZHZT      GRZHYE  GRZHSNJZYE  GRZHDNGJYE   GRYJCE  \\\n",
       "id                                                                      \n",
       "train_0   1737.0     1.0    3223.515     801.310     837.000   312.00   \n",
       "train_1   4894.0     1.0   18055.195   53213.220    1065.200   795.84   \n",
       "train_2  10297.0     1.0   27426.600   13963.140    7230.020  1444.20   \n",
       "train_3  10071.5     1.0  111871.130   99701.265    2271.295  1417.14   \n",
       "train_4   2007.0     1.0     237.000   11028.875      35.780   325.50   \n",
       "\n",
       "            DKFFE        DKYE   DKLL  label  \n",
       "id                                           \n",
       "train_0  175237.0  154112.935  2.708    0.0  \n",
       "train_1  300237.0  298252.945  2.979    0.0  \n",
       "train_2  150237.0  147339.130  2.708    0.0  \n",
       "train_3  350237.0  300653.780  2.708    0.0  \n",
       "train_4  150237.0  145185.010  2.708    0.0  "
      ],
      "text/html": "<div>\n<style scoped>\n    .dataframe tbody tr th:only-of-type {\n        vertical-align: middle;\n    }\n\n    .dataframe tbody tr th {\n        vertical-align: top;\n    }\n\n    .dataframe thead th {\n        text-align: right;\n    }\n</style>\n<table border=\"1\" class=\"dataframe\">\n  <thead>\n    <tr style=\"text-align: right;\">\n      <th></th>\n      <th>XINGBIE</th>\n      <th>AGE</th>\n      <th>HYZK</th>\n      <th>ZHIYE</th>\n      <th>ZHICHEN</th>\n      <th>ZHIWU</th>\n      <th>XUELI</th>\n      <th>DWJJLX</th>\n      <th>DWSSHY</th>\n      <th>GRJCJS</th>\n      <th>GRZHZT</th>\n      <th>GRZHYE</th>\n      <th>GRZHSNJZYE</th>\n      <th>GRZHDNGJYE</th>\n      <th>GRYJCE</th>\n      <th>DKFFE</th>\n      <th>DKYE</th>\n      <th>DKLL</th>\n      <th>label</th>\n    </tr>\n    <tr>\n      <th>id</th>\n      <th></th>\n      <th></th>\n      <th></th>\n      <th></th>\n      <th></th>\n      <th></th>\n      <th></th>\n      <th></th>\n      <th></th>\n      <th></th>\n      <th></th>\n      <th></th>\n      <th></th>\n      <th></th>\n      <th></th>\n      <th></th>\n      <th></th>\n      <th></th>\n      <th></th>\n    </tr>\n  </thead>\n  <tbody>\n    <tr>\n      <th>train_0</th>\n      <td>1.0</td>\n      <td>18.0</td>\n      <td>90.0</td>\n      <td>90.0</td>\n      <td>999.0</td>\n      <td>0.0</td>\n      <td>99.0</td>\n      <td>150.0</td>\n      <td>12.0</td>\n      <td>1737.0</td>\n      <td>1.0</td>\n      <td>3223.515</td>\n      <td>801.310</td>\n      <td>837.000</td>\n      <td>312.00</td>\n      <td>175237.0</td>\n      <td>154112.935</td>\n      <td>2.708</td>\n      <td>0.0</td>\n    </tr>\n    <tr>\n      <th>train_1</th>\n      <td>2.0</td>\n      <td>35.0</td>\n      <td>90.0</td>\n      <td>90.0</td>\n      <td>999.0</td>\n      <td>0.0</td>\n      <td>99.0</td>\n      <td>110.0</td>\n      <td>0.0</td>\n      <td>4894.0</td>\n      <td>1.0</td>\n      <td>18055.195</td>\n      <td>53213.220</td>\n      <td>1065.200</td>\n      <td>795.84</td>\n      <td>300237.0</td>\n      <td>298252.945</td>\n      <td>2.979</td>\n      <td>0.0</td>\n    </tr>\n    <tr>\n      <th>train_2</th>\n      <td>1.0</td>\n      <td>27.0</td>\n      <td>90.0</td>\n      <td>90.0</td>\n      <td>999.0</td>\n      <td>0.0</td>\n      <td>99.0</td>\n      <td>150.0</td>\n      <td>9.0</td>\n      <td>10297.0</td>\n      <td>1.0</td>\n      <td>27426.600</td>\n      <td>13963.140</td>\n      <td>7230.020</td>\n      <td>1444.20</td>\n      <td>150237.0</td>\n      <td>147339.130</td>\n      <td>2.708</td>\n      <td>0.0</td>\n    </tr>\n    <tr>\n      <th>train_3</th>\n      <td>1.0</td>\n      <td>37.0</td>\n      <td>90.0</td>\n      <td>90.0</td>\n      <td>999.0</td>\n      <td>0.0</td>\n      <td>99.0</td>\n      <td>150.0</td>\n      <td>7.0</td>\n      <td>10071.5</td>\n      <td>1.0</td>\n      <td>111871.130</td>\n      <td>99701.265</td>\n      <td>2271.295</td>\n      <td>1417.14</td>\n      <td>350237.0</td>\n      <td>300653.780</td>\n      <td>2.708</td>\n      <td>0.0</td>\n    </tr>\n    <tr>\n      <th>train_4</th>\n      <td>2.0</td>\n      <td>33.0</td>\n      <td>90.0</td>\n      <td>90.0</td>\n      <td>999.0</td>\n      <td>0.0</td>\n      <td>99.0</td>\n      <td>900.0</td>\n      <td>14.0</td>\n      <td>2007.0</td>\n      <td>1.0</td>\n      <td>237.000</td>\n      <td>11028.875</td>\n      <td>35.780</td>\n      <td>325.50</td>\n      <td>150237.0</td>\n      <td>145185.010</td>\n      <td>2.708</td>\n      <td>0.0</td>\n    </tr>\n  </tbody>\n</table>\n</div>"
     },
     "metadata": {},
     "execution_count": 75
    }
   ],
   "source": [
    "data_train.head()"
   ]
  },
  {
   "cell_type": "code",
   "execution_count": 76,
   "metadata": {},
   "outputs": [
    {
     "output_type": "execute_result",
     "data": {
      "text/plain": [
       "        XINGBIE   AGE  HYZK  ZHIYE  ZHICHEN  ZHIWU  XUELI  DWJJLX  DWSSHY  \\\n",
       "id                                                                          \n",
       "test_0      1.0  34.0  90.0   90.0    999.0    0.0   99.0   159.0    10.0   \n",
       "test_1      1.0  32.0  90.0   90.0    999.0    0.0   99.0   150.0    11.0   \n",
       "test_2      1.0  50.0  90.0   90.0    999.0    1.0   99.0   110.0    15.0   \n",
       "test_3      2.0  34.0  90.0   90.0    999.0    0.0   99.0   150.0    10.0   \n",
       "test_4      1.0  48.0  90.0   90.0    999.0    0.0   99.0   150.0     2.0   \n",
       "\n",
       "          GRJCJS  GRZHZT     GRZHYE  GRZHSNJZYE  GRZHDNGJYE   GRYJCE  \\\n",
       "id                                                                     \n",
       "test_0  2387.000     1.0  17146.350   13376.485    1097.000  344.500   \n",
       "test_1  1237.000     1.0   3783.385    2145.585     637.000  287.000   \n",
       "test_2  5612.904     1.0  51787.152   35176.592    1115.693  882.108   \n",
       "test_3  2977.000     1.0    785.000     714.885   -2515.105  511.000   \n",
       "test_4  4701.500     1.0  40722.050   27110.840    8163.960  772.740   \n",
       "\n",
       "           DKFFE        DKYE   DKLL  \n",
       "id                                   \n",
       "test_0  110237.0     237.000  2.708  \n",
       "test_1  200237.0  178567.065  2.708  \n",
       "test_2  150237.0  146580.203  2.834  \n",
       "test_3  246737.0  242095.465  2.979  \n",
       "test_4  100237.0   72320.445  2.708  "
      ],
      "text/html": "<div>\n<style scoped>\n    .dataframe tbody tr th:only-of-type {\n        vertical-align: middle;\n    }\n\n    .dataframe tbody tr th {\n        vertical-align: top;\n    }\n\n    .dataframe thead th {\n        text-align: right;\n    }\n</style>\n<table border=\"1\" class=\"dataframe\">\n  <thead>\n    <tr style=\"text-align: right;\">\n      <th></th>\n      <th>XINGBIE</th>\n      <th>AGE</th>\n      <th>HYZK</th>\n      <th>ZHIYE</th>\n      <th>ZHICHEN</th>\n      <th>ZHIWU</th>\n      <th>XUELI</th>\n      <th>DWJJLX</th>\n      <th>DWSSHY</th>\n      <th>GRJCJS</th>\n      <th>GRZHZT</th>\n      <th>GRZHYE</th>\n      <th>GRZHSNJZYE</th>\n      <th>GRZHDNGJYE</th>\n      <th>GRYJCE</th>\n      <th>DKFFE</th>\n      <th>DKYE</th>\n      <th>DKLL</th>\n    </tr>\n    <tr>\n      <th>id</th>\n      <th></th>\n      <th></th>\n      <th></th>\n      <th></th>\n      <th></th>\n      <th></th>\n      <th></th>\n      <th></th>\n      <th></th>\n      <th></th>\n      <th></th>\n      <th></th>\n      <th></th>\n      <th></th>\n      <th></th>\n      <th></th>\n      <th></th>\n      <th></th>\n    </tr>\n  </thead>\n  <tbody>\n    <tr>\n      <th>test_0</th>\n      <td>1.0</td>\n      <td>34.0</td>\n      <td>90.0</td>\n      <td>90.0</td>\n      <td>999.0</td>\n      <td>0.0</td>\n      <td>99.0</td>\n      <td>159.0</td>\n      <td>10.0</td>\n      <td>2387.000</td>\n      <td>1.0</td>\n      <td>17146.350</td>\n      <td>13376.485</td>\n      <td>1097.000</td>\n      <td>344.500</td>\n      <td>110237.0</td>\n      <td>237.000</td>\n      <td>2.708</td>\n    </tr>\n    <tr>\n      <th>test_1</th>\n      <td>1.0</td>\n      <td>32.0</td>\n      <td>90.0</td>\n      <td>90.0</td>\n      <td>999.0</td>\n      <td>0.0</td>\n      <td>99.0</td>\n      <td>150.0</td>\n      <td>11.0</td>\n      <td>1237.000</td>\n      <td>1.0</td>\n      <td>3783.385</td>\n      <td>2145.585</td>\n      <td>637.000</td>\n      <td>287.000</td>\n      <td>200237.0</td>\n      <td>178567.065</td>\n      <td>2.708</td>\n    </tr>\n    <tr>\n      <th>test_2</th>\n      <td>1.0</td>\n      <td>50.0</td>\n      <td>90.0</td>\n      <td>90.0</td>\n      <td>999.0</td>\n      <td>1.0</td>\n      <td>99.0</td>\n      <td>110.0</td>\n      <td>15.0</td>\n      <td>5612.904</td>\n      <td>1.0</td>\n      <td>51787.152</td>\n      <td>35176.592</td>\n      <td>1115.693</td>\n      <td>882.108</td>\n      <td>150237.0</td>\n      <td>146580.203</td>\n      <td>2.834</td>\n    </tr>\n    <tr>\n      <th>test_3</th>\n      <td>2.0</td>\n      <td>34.0</td>\n      <td>90.0</td>\n      <td>90.0</td>\n      <td>999.0</td>\n      <td>0.0</td>\n      <td>99.0</td>\n      <td>150.0</td>\n      <td>10.0</td>\n      <td>2977.000</td>\n      <td>1.0</td>\n      <td>785.000</td>\n      <td>714.885</td>\n      <td>-2515.105</td>\n      <td>511.000</td>\n      <td>246737.0</td>\n      <td>242095.465</td>\n      <td>2.979</td>\n    </tr>\n    <tr>\n      <th>test_4</th>\n      <td>1.0</td>\n      <td>48.0</td>\n      <td>90.0</td>\n      <td>90.0</td>\n      <td>999.0</td>\n      <td>0.0</td>\n      <td>99.0</td>\n      <td>150.0</td>\n      <td>2.0</td>\n      <td>4701.500</td>\n      <td>1.0</td>\n      <td>40722.050</td>\n      <td>27110.840</td>\n      <td>8163.960</td>\n      <td>772.740</td>\n      <td>100237.0</td>\n      <td>72320.445</td>\n      <td>2.708</td>\n    </tr>\n  </tbody>\n</table>\n</div>"
     },
     "metadata": {},
     "execution_count": 76
    }
   ],
   "source": [
    "data_test.head()"
   ]
  },
  {
   "cell_type": "code",
   "execution_count": 77,
   "metadata": {},
   "outputs": [],
   "source": [
    "data_train.to_csv('data_file/train-age-duplicate-processed.csv')\n",
    "data_test.to_csv('data_file/test-age-duplicate-processed.csv')"
   ]
  }
 ]
}